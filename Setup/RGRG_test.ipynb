{
 "cells": [
  {
   "cell_type": "code",
   "execution_count": 2,
   "metadata": {},
   "outputs": [
    {
     "name": "stdout",
     "output_type": "stream",
     "text": [
      "물론이죠! 김치찌개는 매콤한 맛과 다양한 재료로 인기 있는 한국의 전통 요리입니다. 맛있고 든든한 한 끼 식사를 위한 기본 김치찌개 레시피를 소개합니다:\n",
      "\n",
      "재료:\n",
      "1. 돼지고기 혹은 소고기(200g, 다짐육으로 잘게 썬 것)\n",
      "2. 생마늘(다진 것), 대파(얇게 썬 것), 양파(썰거나 다진 것), 김치(잘게 찢은 것)\n",
      "3. 고춧가루 혹은 고추장(적당한 양, 개인의 취향에 맞게 조절할 수 있음)\n",
      "4. 맛술 또는 소주 (1-2 큰술)\n",
      "5. 간장(약간)\n",
      "6. 물 (약 3컵)\n",
      "7. 김치 국물(선호하는 만큼)\n",
      "8. 참기름 혹은 식용유 (조리 시에 조금 사용)\n",
      "9. 대파 흰부분으로 만든 쪽파 혹은 고명으로는 잘게 썬 쪽파(선택 사항)\n",
      "10. 밥 (완성된 김치찌개를 곁들임으로)\n",
      "\n",
      "만드는 법:\n",
      "\n",
      "1. 중불로 달군 프라이팬이나 주걱에 참기름 또는 식용유를 두르고, 다짐육을 넣어 갈색이 나고 익을 때까지 조리합니다. 다진 마늘과 대파의 하얀 부분을 함께 넣고 향긋해질 때까지 볶습니다.\n",
      "\n",
      "2. 잘게 썬 김치와 양념 재료(고춧가루 혹은 고추장, 맛술 또는 소주, 간장)를 추가하고 골고루 섞은 뒤 다시 약 3-4분간 조리하여 맛이 배도록 합니다. 이 단계는 김치의 맵기나 당도에 따라 조절하는 것이 중요합니다.\n",
      "\n",
      "3. 양념된 김치 위에 미리 데운 물과 원하는 만큼의 김치 국물을 부어줍니다. 물이 끓으면, 중불로 줄이고 약 15-20분간 뚜껑을 덮고 조리하여 맛이 어우러지도록 합니다(더 진한 맛을 원한다면 더 오래 조릴 수 있습니다).\n",
      "\n",
      "4. 원하는 만큼의 김치찌개가 되면 불에서 내려내고, 취향에 따라 고명으로 잘게 썬 쪽파나 다진 파를 올려줍니다.\n",
      "\n",
      "5. 뜨겁고 신선하게 준비된 밥 위에 김치찌개를 부어 맛있게 드세요!\n",
      "\n",
      "이 레시피는 기본적인 버전이며 개인의 취향이나 식재료에 맞게 조절할 수 있습니다. 이 맛있는 한국 요리를 즐기시길 바랍니다!\n"
     ]
    }
   ],
   "source": [
    "from langchain_community.chat_models import ChatOllama\n",
    "from langchain_core.output_parsers import StrOutputParser\n",
    "from langchain_core.prompts import ChatPromptTemplate\n",
    "\n",
    "llm = ChatOllama(model = \"RGRG:latest\")\n",
    "# chain 정의 -> model 정의랑 비슷\n",
    "prompt = ChatPromptTemplate.from_template(\"{topic}의 레시피와 재료를 알려줘.\")\n",
    "chain = prompt | llm | StrOutputParser()\n",
    "\n",
    "# user_prompt 수집\n",
    "user_prompt = \"김치찌개\" # -> st.text_area로 설정\n",
    "response = chain.invoke({\"topic\": user_prompt})\n",
    "print(response)"
   ]
  },
  {
   "cell_type": "code",
   "execution_count": null,
   "metadata": {},
   "outputs": [],
   "source": []
  }
 ],
 "metadata": {
  "kernelspec": {
   "display_name": "Python 3",
   "language": "python",
   "name": "python3"
  },
  "language_info": {
   "codemirror_mode": {
    "name": "ipython",
    "version": 3
   },
   "file_extension": ".py",
   "mimetype": "text/x-python",
   "name": "python",
   "nbconvert_exporter": "python",
   "pygments_lexer": "ipython3",
   "version": "3.12.4"
  }
 },
 "nbformat": 4,
 "nbformat_minor": 2
}
